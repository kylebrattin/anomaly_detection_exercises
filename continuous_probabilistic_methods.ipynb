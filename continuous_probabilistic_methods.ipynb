{
 "cells": [
  {
   "cell_type": "code",
   "execution_count": 1,
   "id": "1e200b48-484e-4840-bf93-257df5bf59da",
   "metadata": {
    "tags": []
   },
   "outputs": [],
   "source": [
    "#  basic imports \n",
    "# basic imports:\n",
    "import numpy as np\n",
    "import pandas as pd\n",
    "from pydataset import data\n",
    "import matplotlib.pyplot as plt\n",
    "import seaborn as sns"
   ]
  },
  {
   "cell_type": "markdown",
   "id": "933229cc-43c1-43d4-84d5-29c68823c071",
   "metadata": {},
   "source": [
    "## continuous_probabilistic_methods.py or continuous_probabilistic_methods.ipynb \n",
    "\n",
    "### 1. Define a function named get_lower_and_upper_bounds that has two arguments. The first argument is a pandas Series. The second argument is the multiplier, which should have a default argument of 1.5.\n",
    "\n"
   ]
  },
  {
   "cell_type": "code",
   "execution_count": 2,
   "id": "3d3f4684-1c1e-4a08-9620-0eed62fc196b",
   "metadata": {
    "tags": []
   },
   "outputs": [],
   "source": [
    "url = \"https://gist.githubusercontent.com/ryanorsinger/19bc7eccd6279661bd13307026628ace/raw/e4b5d6787015a4782f96cad6d1d62a8bdbac54c7/lemonade.csv\""
   ]
  },
  {
   "cell_type": "code",
   "execution_count": 3,
   "id": "dff3c818-2a9e-4519-a42e-d8d0a59e1429",
   "metadata": {
    "tags": []
   },
   "outputs": [
    {
     "data": {
      "text/html": [
       "<div>\n",
       "<style scoped>\n",
       "    .dataframe tbody tr th:only-of-type {\n",
       "        vertical-align: middle;\n",
       "    }\n",
       "\n",
       "    .dataframe tbody tr th {\n",
       "        vertical-align: top;\n",
       "    }\n",
       "\n",
       "    .dataframe thead th {\n",
       "        text-align: right;\n",
       "    }\n",
       "</style>\n",
       "<table border=\"1\" class=\"dataframe\">\n",
       "  <thead>\n",
       "    <tr style=\"text-align: right;\">\n",
       "      <th></th>\n",
       "      <th>Date</th>\n",
       "      <th>Day</th>\n",
       "      <th>Temperature</th>\n",
       "      <th>Rainfall</th>\n",
       "      <th>Flyers</th>\n",
       "      <th>Price</th>\n",
       "      <th>Sales</th>\n",
       "    </tr>\n",
       "  </thead>\n",
       "  <tbody>\n",
       "    <tr>\n",
       "      <th>0</th>\n",
       "      <td>1/1/17</td>\n",
       "      <td>Sunday</td>\n",
       "      <td>27.0</td>\n",
       "      <td>2.00</td>\n",
       "      <td>15</td>\n",
       "      <td>0.5</td>\n",
       "      <td>10</td>\n",
       "    </tr>\n",
       "    <tr>\n",
       "      <th>1</th>\n",
       "      <td>1/2/17</td>\n",
       "      <td>Monday</td>\n",
       "      <td>28.9</td>\n",
       "      <td>1.33</td>\n",
       "      <td>15</td>\n",
       "      <td>0.5</td>\n",
       "      <td>13</td>\n",
       "    </tr>\n",
       "    <tr>\n",
       "      <th>2</th>\n",
       "      <td>1/3/17</td>\n",
       "      <td>Tuesday</td>\n",
       "      <td>34.5</td>\n",
       "      <td>1.33</td>\n",
       "      <td>27</td>\n",
       "      <td>0.5</td>\n",
       "      <td>15</td>\n",
       "    </tr>\n",
       "    <tr>\n",
       "      <th>3</th>\n",
       "      <td>1/4/17</td>\n",
       "      <td>Wednesday</td>\n",
       "      <td>44.1</td>\n",
       "      <td>1.05</td>\n",
       "      <td>28</td>\n",
       "      <td>0.5</td>\n",
       "      <td>17</td>\n",
       "    </tr>\n",
       "    <tr>\n",
       "      <th>4</th>\n",
       "      <td>1/5/17</td>\n",
       "      <td>Thursday</td>\n",
       "      <td>42.4</td>\n",
       "      <td>1.00</td>\n",
       "      <td>33</td>\n",
       "      <td>0.5</td>\n",
       "      <td>18</td>\n",
       "    </tr>\n",
       "    <tr>\n",
       "      <th>5</th>\n",
       "      <td>1/6/17</td>\n",
       "      <td>Friday</td>\n",
       "      <td>25.3</td>\n",
       "      <td>1.54</td>\n",
       "      <td>23</td>\n",
       "      <td>0.5</td>\n",
       "      <td>11</td>\n",
       "    </tr>\n",
       "  </tbody>\n",
       "</table>\n",
       "</div>"
      ],
      "text/plain": [
       "     Date        Day  Temperature  Rainfall  Flyers  Price  Sales\n",
       "0  1/1/17     Sunday         27.0      2.00      15    0.5     10\n",
       "1  1/2/17     Monday         28.9      1.33      15    0.5     13\n",
       "2  1/3/17    Tuesday         34.5      1.33      27    0.5     15\n",
       "3  1/4/17  Wednesday         44.1      1.05      28    0.5     17\n",
       "4  1/5/17   Thursday         42.4      1.00      33    0.5     18\n",
       "5  1/6/17     Friday         25.3      1.54      23    0.5     11"
      ]
     },
     "execution_count": 3,
     "metadata": {},
     "output_type": "execute_result"
    }
   ],
   "source": [
    "df = pd.read_csv(url)\n",
    "df.head(6)"
   ]
  },
  {
   "cell_type": "markdown",
   "id": "118e8e6e-0728-43ce-98cc-5292c13b0c78",
   "metadata": {},
   "source": [
    "## 1.) Use the IQR Range Rule and the upper and lower bounds to identify the lower outliers of each column of lemonade.csv, using the multiplier of 1.5. Do these lower outliers make sense? Which outliers should be kept?"
   ]
  },
  {
   "cell_type": "code",
   "execution_count": 4,
   "id": "4ad88520-d85a-464c-981b-a474d1d89724",
   "metadata": {
    "tags": []
   },
   "outputs": [
    {
     "name": "stderr",
     "output_type": "stream",
     "text": [
      "/var/folders/jd/t05l8rl14_l105k8kn2tdng40000gn/T/ipykernel_57151/1836100510.py:2: DeprecationWarning: In a future version, `df.iloc[:, i] = newvals` will attempt to set the values inplace instead of always setting a new array. To retain the old behavior, use either `df[df.columns[i]] = newvals` or, if columns are non-unique, `df.isetitem(i, newvals)`\n",
      "  df.loc[:,'Date'] = pd.to_datetime(df.Date)\n"
     ]
    }
   ],
   "source": [
    "# convert the date to a datetime\n",
    "df.loc[:,'Date'] = pd.to_datetime(df.Date)\n"
   ]
  },
  {
   "cell_type": "code",
   "execution_count": 5,
   "id": "5bdf905f-7b26-4466-9741-dc45060c9499",
   "metadata": {
    "tags": []
   },
   "outputs": [],
   "source": [
    "df.columns = df.columns.str.lower()"
   ]
  },
  {
   "cell_type": "code",
   "execution_count": 6,
   "id": "eb020f79-b0bd-4a92-894f-51128913fe0e",
   "metadata": {
    "tags": []
   },
   "outputs": [
    {
     "data": {
      "text/html": [
       "<div>\n",
       "<style scoped>\n",
       "    .dataframe tbody tr th:only-of-type {\n",
       "        vertical-align: middle;\n",
       "    }\n",
       "\n",
       "    .dataframe tbody tr th {\n",
       "        vertical-align: top;\n",
       "    }\n",
       "\n",
       "    .dataframe thead th {\n",
       "        text-align: right;\n",
       "    }\n",
       "</style>\n",
       "<table border=\"1\" class=\"dataframe\">\n",
       "  <thead>\n",
       "    <tr style=\"text-align: right;\">\n",
       "      <th></th>\n",
       "      <th>day</th>\n",
       "      <th>temperature</th>\n",
       "      <th>rainfall</th>\n",
       "      <th>flyers</th>\n",
       "      <th>price</th>\n",
       "      <th>sales</th>\n",
       "    </tr>\n",
       "    <tr>\n",
       "      <th>date</th>\n",
       "      <th></th>\n",
       "      <th></th>\n",
       "      <th></th>\n",
       "      <th></th>\n",
       "      <th></th>\n",
       "      <th></th>\n",
       "    </tr>\n",
       "  </thead>\n",
       "  <tbody>\n",
       "    <tr>\n",
       "      <th>2017-01-01</th>\n",
       "      <td>Sunday</td>\n",
       "      <td>27.0</td>\n",
       "      <td>2.00</td>\n",
       "      <td>15</td>\n",
       "      <td>0.5</td>\n",
       "      <td>10</td>\n",
       "    </tr>\n",
       "    <tr>\n",
       "      <th>2017-01-02</th>\n",
       "      <td>Monday</td>\n",
       "      <td>28.9</td>\n",
       "      <td>1.33</td>\n",
       "      <td>15</td>\n",
       "      <td>0.5</td>\n",
       "      <td>13</td>\n",
       "    </tr>\n",
       "    <tr>\n",
       "      <th>2017-01-03</th>\n",
       "      <td>Tuesday</td>\n",
       "      <td>34.5</td>\n",
       "      <td>1.33</td>\n",
       "      <td>27</td>\n",
       "      <td>0.5</td>\n",
       "      <td>15</td>\n",
       "    </tr>\n",
       "    <tr>\n",
       "      <th>2017-01-04</th>\n",
       "      <td>Wednesday</td>\n",
       "      <td>44.1</td>\n",
       "      <td>1.05</td>\n",
       "      <td>28</td>\n",
       "      <td>0.5</td>\n",
       "      <td>17</td>\n",
       "    </tr>\n",
       "    <tr>\n",
       "      <th>2017-01-05</th>\n",
       "      <td>Thursday</td>\n",
       "      <td>42.4</td>\n",
       "      <td>1.00</td>\n",
       "      <td>33</td>\n",
       "      <td>0.5</td>\n",
       "      <td>18</td>\n",
       "    </tr>\n",
       "    <tr>\n",
       "      <th>...</th>\n",
       "      <td>...</td>\n",
       "      <td>...</td>\n",
       "      <td>...</td>\n",
       "      <td>...</td>\n",
       "      <td>...</td>\n",
       "      <td>...</td>\n",
       "    </tr>\n",
       "    <tr>\n",
       "      <th>2017-12-27</th>\n",
       "      <td>Wednesday</td>\n",
       "      <td>42.7</td>\n",
       "      <td>1.00</td>\n",
       "      <td>33</td>\n",
       "      <td>0.5</td>\n",
       "      <td>19</td>\n",
       "    </tr>\n",
       "    <tr>\n",
       "      <th>2017-12-28</th>\n",
       "      <td>Thursday</td>\n",
       "      <td>37.8</td>\n",
       "      <td>1.25</td>\n",
       "      <td>32</td>\n",
       "      <td>0.5</td>\n",
       "      <td>16</td>\n",
       "    </tr>\n",
       "    <tr>\n",
       "      <th>2017-12-29</th>\n",
       "      <td>Friday</td>\n",
       "      <td>39.5</td>\n",
       "      <td>1.25</td>\n",
       "      <td>17</td>\n",
       "      <td>0.5</td>\n",
       "      <td>15</td>\n",
       "    </tr>\n",
       "    <tr>\n",
       "      <th>2017-12-30</th>\n",
       "      <td>Saturday</td>\n",
       "      <td>30.9</td>\n",
       "      <td>1.43</td>\n",
       "      <td>22</td>\n",
       "      <td>0.5</td>\n",
       "      <td>13</td>\n",
       "    </tr>\n",
       "    <tr>\n",
       "      <th>2017-12-31</th>\n",
       "      <td>Sunday</td>\n",
       "      <td>15.1</td>\n",
       "      <td>2.50</td>\n",
       "      <td>9</td>\n",
       "      <td>0.5</td>\n",
       "      <td>7</td>\n",
       "    </tr>\n",
       "  </tbody>\n",
       "</table>\n",
       "<p>365 rows × 6 columns</p>\n",
       "</div>"
      ],
      "text/plain": [
       "                  day  temperature  rainfall  flyers  price  sales\n",
       "date                                                              \n",
       "2017-01-01     Sunday         27.0      2.00      15    0.5     10\n",
       "2017-01-02     Monday         28.9      1.33      15    0.5     13\n",
       "2017-01-03    Tuesday         34.5      1.33      27    0.5     15\n",
       "2017-01-04  Wednesday         44.1      1.05      28    0.5     17\n",
       "2017-01-05   Thursday         42.4      1.00      33    0.5     18\n",
       "...               ...          ...       ...     ...    ...    ...\n",
       "2017-12-27  Wednesday         42.7      1.00      33    0.5     19\n",
       "2017-12-28   Thursday         37.8      1.25      32    0.5     16\n",
       "2017-12-29     Friday         39.5      1.25      17    0.5     15\n",
       "2017-12-30   Saturday         30.9      1.43      22    0.5     13\n",
       "2017-12-31     Sunday         15.1      2.50       9    0.5      7\n",
       "\n",
       "[365 rows x 6 columns]"
      ]
     },
     "execution_count": 6,
     "metadata": {},
     "output_type": "execute_result"
    }
   ],
   "source": [
    "# reassign the index\n",
    "df = df.set_index('date')\n",
    "df"
   ]
  },
  {
   "cell_type": "code",
   "execution_count": 7,
   "id": "65afa658-b51b-47b6-9312-b81732b52261",
   "metadata": {
    "tags": []
   },
   "outputs": [
    {
     "data": {
      "text/plain": [
       "Index(['day', 'temperature', 'rainfall', 'flyers', 'price', 'sales'], dtype='object')"
      ]
     },
     "execution_count": 7,
     "metadata": {},
     "output_type": "execute_result"
    }
   ],
   "source": [
    "df.columns"
   ]
  },
  {
   "cell_type": "code",
   "execution_count": 8,
   "id": "342ecba1-581b-4bcb-8309-bba982d27c16",
   "metadata": {
    "tags": []
   },
   "outputs": [],
   "source": [
    "# lets make a new column that follows the month\n",
    "df['month'] = df.index.month_name()"
   ]
  },
  {
   "cell_type": "code",
   "execution_count": 10,
   "id": "aebabdaa-478e-404c-a8ff-381a944e5067",
   "metadata": {
    "tags": []
   },
   "outputs": [
    {
     "data": {
      "text/html": [
       "<div>\n",
       "<style scoped>\n",
       "    .dataframe tbody tr th:only-of-type {\n",
       "        vertical-align: middle;\n",
       "    }\n",
       "\n",
       "    .dataframe tbody tr th {\n",
       "        vertical-align: top;\n",
       "    }\n",
       "\n",
       "    .dataframe thead th {\n",
       "        text-align: right;\n",
       "    }\n",
       "</style>\n",
       "<table border=\"1\" class=\"dataframe\">\n",
       "  <thead>\n",
       "    <tr style=\"text-align: right;\">\n",
       "      <th></th>\n",
       "      <th>count</th>\n",
       "      <th>mean</th>\n",
       "      <th>std</th>\n",
       "      <th>min</th>\n",
       "      <th>25%</th>\n",
       "      <th>50%</th>\n",
       "      <th>75%</th>\n",
       "      <th>max</th>\n",
       "    </tr>\n",
       "  </thead>\n",
       "  <tbody>\n",
       "    <tr>\n",
       "      <th>temperature</th>\n",
       "      <td>365.0</td>\n",
       "      <td>61.224658</td>\n",
       "      <td>18.085892</td>\n",
       "      <td>15.1</td>\n",
       "      <td>49.70</td>\n",
       "      <td>61.10</td>\n",
       "      <td>71.70</td>\n",
       "      <td>212.0</td>\n",
       "    </tr>\n",
       "    <tr>\n",
       "      <th>rainfall</th>\n",
       "      <td>365.0</td>\n",
       "      <td>0.825973</td>\n",
       "      <td>0.273890</td>\n",
       "      <td>0.4</td>\n",
       "      <td>0.65</td>\n",
       "      <td>0.74</td>\n",
       "      <td>0.91</td>\n",
       "      <td>2.5</td>\n",
       "    </tr>\n",
       "    <tr>\n",
       "      <th>flyers</th>\n",
       "      <td>365.0</td>\n",
       "      <td>40.104110</td>\n",
       "      <td>13.786445</td>\n",
       "      <td>-38.0</td>\n",
       "      <td>31.00</td>\n",
       "      <td>39.00</td>\n",
       "      <td>49.00</td>\n",
       "      <td>80.0</td>\n",
       "    </tr>\n",
       "    <tr>\n",
       "      <th>price</th>\n",
       "      <td>365.0</td>\n",
       "      <td>0.500000</td>\n",
       "      <td>0.000000</td>\n",
       "      <td>0.5</td>\n",
       "      <td>0.50</td>\n",
       "      <td>0.50</td>\n",
       "      <td>0.50</td>\n",
       "      <td>0.5</td>\n",
       "    </tr>\n",
       "    <tr>\n",
       "      <th>sales</th>\n",
       "      <td>365.0</td>\n",
       "      <td>27.865753</td>\n",
       "      <td>30.948132</td>\n",
       "      <td>7.0</td>\n",
       "      <td>20.00</td>\n",
       "      <td>25.00</td>\n",
       "      <td>30.00</td>\n",
       "      <td>534.0</td>\n",
       "    </tr>\n",
       "  </tbody>\n",
       "</table>\n",
       "</div>"
      ],
      "text/plain": [
       "             count       mean        std   min    25%    50%    75%    max\n",
       "temperature  365.0  61.224658  18.085892  15.1  49.70  61.10  71.70  212.0\n",
       "rainfall     365.0   0.825973   0.273890   0.4   0.65   0.74   0.91    2.5\n",
       "flyers       365.0  40.104110  13.786445 -38.0  31.00  39.00  49.00   80.0\n",
       "price        365.0   0.500000   0.000000   0.5   0.50   0.50   0.50    0.5\n",
       "sales        365.0  27.865753  30.948132   7.0  20.00  25.00  30.00  534.0"
      ]
     },
     "execution_count": 10,
     "metadata": {},
     "output_type": "execute_result"
    }
   ],
   "source": [
    "df.describe().T"
   ]
  },
  {
   "cell_type": "code",
   "execution_count": 12,
   "id": "326d063c-55d1-4bd0-a9c8-9b7e11367f65",
   "metadata": {},
   "outputs": [
    {
     "name": "stdout",
     "output_type": "stream",
     "text": [
      "Spread of data for temperature\n"
     ]
    },
    {
     "data": {
      "image/png": "[encoded data removed]",
      "text/plain": [
       "<Figure size 640x480 with 1 Axes>"
      ]
     },
     "metadata": {},
     "output_type": "display_data"
    },
    {
     "data": {
      "image/png": "[encoded data removed]",
      "text/plain": [
       "<Figure size 640x480 with 1 Axes>"
      ]
     },
     "metadata": {},
     "output_type": "display_data"
    },
    {
     "name": "stdout",
     "output_type": "stream",
     "text": [
      "===========\n",
      "Spread of data for rainfall\n"
     ]
    },
    {
     "data": {
      "image/png": "[encoded data removed]",
      "text/plain": [
       "<Figure size 640x480 with 1 Axes>"
      ]
     },
     "metadata": {},
     "output_type": "display_data"
    },
    {
     "data": {
      "image/png": "[encoded data removed]",
      "text/plain": [
       "<Figure size 640x480 with 1 Axes>"
      ]
     },
     "metadata": {},
     "output_type": "display_data"
    },
    {
     "name": "stdout",
     "output_type": "stream",
     "text": [
      "===========\n",
      "Spread of data for flyers\n"
     ]
    },
    {
     "data": {
      "image/png": "[encoded data removed]",
      "text/plain": [
       "<Figure size 640x480 with 1 Axes>"
      ]
     },
     "metadata": {},
     "output_type": "display_data"
    },
    {
     "data": {
      "image/png": "[encoded data removed]",
      "text/plain": [
       "<Figure size 640x480 with 1 Axes>"
      ]
     },
     "metadata": {},
     "output_type": "display_data"
    },
    {
     "name": "stdout",
     "output_type": "stream",
     "text": [
      "===========\n",
      "Spread of data for price\n"
     ]
    },
    {
     "data": {
      "image/png": "[encoded data removed]",
      "text/plain": [
       "<Figure size 640x480 with 1 Axes>"
      ]
     },
     "metadata": {},
     "output_type": "display_data"
    },
    {
     "data": {
      "image/png": "[encoded data removed]",
      "text/plain": [
       "<Figure size 640x480 with 1 Axes>"
      ]
     },
     "metadata": {},
     "output_type": "display_data"
    },
    {
     "name": "stdout",
     "output_type": "stream",
     "text": [
      "===========\n",
      "Spread of data for sales\n"
     ]
    },
    {
     "data": {
      "image/png": "[encoded data removed]",
      "text/plain": [
       "<Figure size 640x480 with 1 Axes>"
      ]
     },
     "metadata": {},
     "output_type": "display_data"
    },
    {
     "data": {
      "image/png": "[encoded data removed]",
      "text/plain": [
       "<Figure size 640x480 with 1 Axes>"
      ]
     },
     "metadata": {},
     "output_type": "display_data"
    },
    {
     "name": "stdout",
     "output_type": "stream",
     "text": [
      "===========\n"
     ]
    }
   ],
   "source": [
    "# Exclude the object type columns: df.drop(columns=['month','Day']).columns\n",
    "for col in df.drop(columns=['month','day']).columns:\n",
    "    print(f'Spread of data for {col}')\n",
    "    # make a histogram for each col\n",
    "    plt.hist(df[col])\n",
    "    plt.show()\n",
    "    # make a box plot of each col\n",
    "    sns.boxplot(data=df, x=col)\n",
    "    plt.show()\n",
    "    print('===========')\n"
   ]
  },
  {
   "cell_type": "code",
   "execution_count": 13,
   "id": "bcbcdcbb-478d-44b9-9221-60c9a066fd27",
   "metadata": {},
   "outputs": [],
   "source": [
    "def get_fences(df, col, k=1.5):\n",
    "    q1, q3 = df[col].quantile(0.25), \\\n",
    "    df[col].quantile(0.75)\n",
    "    iqr = q3 - q1\n",
    "    upper_fence = q3 + k*iqr\n",
    "    lower_fence = q1 - k*iqr\n",
    "    return lower_fence, upper_fence"
   ]
  },
  {
   "cell_type": "code",
   "execution_count": 15,
   "id": "2fc6de87-029a-4fd6-820b-240c21e95dd3",
   "metadata": {
    "tags": []
   },
   "outputs": [],
   "source": [
    "# for organizational purposes\n",
    "outliers_dict = {}\n",
    "for col in df.drop(columns=['month','day']).columns:\n",
    "    outliers_dict[col] = {}\n",
    "    outliers_dict[col]['bounds'] = get_fences(df,col)\n",
    "    outliers_dict[col]['df'] = \\\n",
    "    df[(df[col] > outliers_dict[col]['bounds'][1])|\n",
    "      (df[col] < outliers_dict[col]['bounds'][0])]"
   ]
  },
  {
   "cell_type": "code",
   "execution_count": 16,
   "id": "c7cb4945-5af3-4407-a024-10f79ac263ba",
   "metadata": {
    "tags": []
   },
   "outputs": [
    {
     "data": {
      "text/plain": [
       "dict_keys(['temperature', 'rainfall', 'flyers', 'price', 'sales'])"
      ]
     },
     "execution_count": 16,
     "metadata": {},
     "output_type": "execute_result"
    }
   ],
   "source": [
    "outliers_dict.keys()"
   ]
  },
  {
   "cell_type": "code",
   "execution_count": 17,
   "id": "4fb80b38-6897-44d7-bdec-a0c6dc178c1e",
   "metadata": {
    "tags": []
   },
   "outputs": [
    {
     "data": {
      "text/html": [
       "<div>\n",
       "<style scoped>\n",
       "    .dataframe tbody tr th:only-of-type {\n",
       "        vertical-align: middle;\n",
       "    }\n",
       "\n",
       "    .dataframe tbody tr th {\n",
       "        vertical-align: top;\n",
       "    }\n",
       "\n",
       "    .dataframe thead th {\n",
       "        text-align: right;\n",
       "    }\n",
       "</style>\n",
       "<table border=\"1\" class=\"dataframe\">\n",
       "  <thead>\n",
       "    <tr style=\"text-align: right;\">\n",
       "      <th></th>\n",
       "      <th>day</th>\n",
       "      <th>temperature</th>\n",
       "      <th>rainfall</th>\n",
       "      <th>flyers</th>\n",
       "      <th>price</th>\n",
       "      <th>sales</th>\n",
       "      <th>month</th>\n",
       "    </tr>\n",
       "    <tr>\n",
       "      <th>date</th>\n",
       "      <th></th>\n",
       "      <th></th>\n",
       "      <th></th>\n",
       "      <th></th>\n",
       "      <th></th>\n",
       "      <th></th>\n",
       "      <th></th>\n",
       "    </tr>\n",
       "  </thead>\n",
       "  <tbody>\n",
       "    <tr>\n",
       "      <th>2017-02-11</th>\n",
       "      <td>Saturday</td>\n",
       "      <td>212.0</td>\n",
       "      <td>0.91</td>\n",
       "      <td>35</td>\n",
       "      <td>0.5</td>\n",
       "      <td>21</td>\n",
       "      <td>February</td>\n",
       "    </tr>\n",
       "    <tr>\n",
       "      <th>2017-12-31</th>\n",
       "      <td>Sunday</td>\n",
       "      <td>15.1</td>\n",
       "      <td>2.50</td>\n",
       "      <td>9</td>\n",
       "      <td>0.5</td>\n",
       "      <td>7</td>\n",
       "      <td>December</td>\n",
       "    </tr>\n",
       "  </tbody>\n",
       "</table>\n",
       "</div>"
      ],
      "text/plain": [
       "                 day  temperature  rainfall  flyers  price  sales     month\n",
       "date                                                                       \n",
       "2017-02-11  Saturday        212.0      0.91      35    0.5     21  February\n",
       "2017-12-31    Sunday         15.1      2.50       9    0.5      7  December"
      ]
     },
     "execution_count": 17,
     "metadata": {},
     "output_type": "execute_result"
    }
   ],
   "source": [
    "outliers_dict['temperature']['df']"
   ]
  },
  {
   "cell_type": "code",
   "execution_count": 18,
   "id": "b0e00a6b-6305-460e-9ecf-f988bc15e44b",
   "metadata": {
    "tags": []
   },
   "outputs": [
    {
     "data": {
      "text/plain": [
       "(16.700000000000003, 104.7)"
      ]
     },
     "execution_count": 18,
     "metadata": {},
     "output_type": "execute_result"
    }
   ],
   "source": [
    "outliers_dict['temperature']['bounds']"
   ]
  },
  {
   "cell_type": "code",
   "execution_count": 19,
   "id": "2460e63c-da6a-4587-96d9-dc2b318ac408",
   "metadata": {
    "tags": []
   },
   "outputs": [
    {
     "name": "stdout",
     "output_type": "stream",
     "text": [
      "Outliers for temperature:\n",
      "| date                | day      |   temperature |   rainfall |   flyers |   price |   sales | month    |\n",
      "|:--------------------|:---------|--------------:|-----------:|---------:|--------:|--------:|:---------|\n",
      "| 2017-02-11 00:00:00 | Saturday |         212   |       0.91 |       35 |     0.5 |      21 | February |\n",
      "| 2017-12-31 00:00:00 | Sunday   |          15.1 |       2.5  |        9 |     0.5 |       7 | December |\n",
      "Bounds: (16.700000000000003, 104.7)\n",
      "=====================\n",
      "Outliers for rainfall:\n",
      "| date                | day       |   temperature |   rainfall |   flyers |   price |   sales | month    |\n",
      "|:--------------------|:----------|--------------:|-----------:|---------:|--------:|--------:|:---------|\n",
      "| 2017-01-01 00:00:00 | Sunday    |          27   |       2    |       15 |     0.5 |      10 | January  |\n",
      "| 2017-01-02 00:00:00 | Monday    |          28.9 |       1.33 |       15 |     0.5 |      13 | January  |\n",
      "| 2017-01-03 00:00:00 | Tuesday   |          34.5 |       1.33 |       27 |     0.5 |      15 | January  |\n",
      "| 2017-01-06 00:00:00 | Friday    |          25.3 |       1.54 |       23 |     0.5 |      11 | January  |\n",
      "| 2017-01-07 00:00:00 | Saturday  |          32.9 |       1.54 |       19 |     0.5 |      13 | January  |\n",
      "| 2017-01-11 00:00:00 | Wednesday |          32.6 |       1.54 |       23 |     0.5 |      12 | January  |\n",
      "| 2017-01-12 00:00:00 | Thursday  |          38.2 |       1.33 |       16 |     0.5 |      14 | January  |\n",
      "| 2017-01-13 00:00:00 | Friday    |          37.5 |       1.33 |       19 |     0.5 |      15 | January  |\n",
      "| 2017-01-16 00:00:00 | Monday    |          30.6 |       1.67 |       24 |     0.5 |      12 | January  |\n",
      "| 2017-01-17 00:00:00 | Tuesday   |          32.2 |       1.43 |       26 |     0.5 |      14 | January  |\n",
      "| 2017-01-20 00:00:00 | Friday    |          31.6 |       1.43 |       20 |     0.5 |      12 | January  |\n",
      "| 2017-01-24 00:00:00 | Tuesday   |          28.6 |       1.54 |       20 |     0.5 |      12 | January  |\n",
      "| 2017-01-28 00:00:00 | Saturday  |          34.9 |       1.33 |       15 |     0.5 |      13 | January  |\n",
      "| 2017-01-29 00:00:00 | Sunday    |          35.2 |       1.33 |       27 |     0.5 |      14 | January  |\n",
      "| 2017-12-04 00:00:00 | Monday    |          34.9 |       1.54 |       16 |     0.5 |      13 | December |\n",
      "| 2017-12-05 00:00:00 | Tuesday   |          22   |       1.82 |       11 |     0.5 |      10 | December |\n",
      "| 2017-12-09 00:00:00 | Saturday  |          31.2 |       1.43 |       19 |     0.5 |      14 | December |\n",
      "| 2017-12-10 00:00:00 | Sunday    |          31.3 |       1.82 |       15 |     0.5 |      11 | December |\n",
      "| 2017-12-12 00:00:00 | Tuesday   |          33.5 |       1.33 |       22 |     0.5 |      15 | December |\n",
      "| 2017-12-13 00:00:00 | Wednesday |          32.2 |       1.43 |       26 |     0.5 |      14 | December |\n",
      "| 2017-12-14 00:00:00 | Thursday  |          31.9 |       1.54 |       24 |     0.5 |      13 | December |\n",
      "| 2017-12-17 00:00:00 | Sunday    |          32.2 |       1.33 |       16 |     0.5 |      14 | December |\n",
      "| 2017-12-18 00:00:00 | Monday    |          30.9 |       1.43 |       27 |     0.5 |      13 | December |\n",
      "| 2017-12-21 00:00:00 | Thursday  |          40.5 |       1.33 |       23 |     0.5 |      15 | December |\n",
      "| 2017-12-22 00:00:00 | Friday    |          30.9 |       1.54 |       17 |     0.5 |      13 | December |\n",
      "| 2017-12-26 00:00:00 | Tuesday   |          28.9 |       1.43 |       23 |     0.5 |      13 | December |\n",
      "| 2017-12-30 00:00:00 | Saturday  |          30.9 |       1.43 |       22 |     0.5 |      13 | December |\n",
      "| 2017-12-31 00:00:00 | Sunday    |          15.1 |       2.5  |        9 |     0.5 |       7 | December |\n",
      "Bounds: (0.26, 1.3)\n",
      "=====================\n",
      "Outliers for flyers:\n",
      "| date                | day     |   temperature |   rainfall |   flyers |   price |   sales | month    |\n",
      "|:--------------------|:--------|--------------:|-----------:|---------:|--------:|--------:|:---------|\n",
      "| 2017-06-16 00:00:00 | Friday  |          99.3 |       0.47 |       77 |     0.5 |      41 | June     |\n",
      "| 2017-07-14 00:00:00 | Friday  |          92   |       0.5  |       80 |     0.5 |      40 | July     |\n",
      "| 2017-11-21 00:00:00 | Tuesday |          47   |       0.95 |      -38 |     0.5 |      20 | November |\n",
      "Bounds: (4.0, 76.0)\n",
      "=====================\n",
      "Outliers for price:\n",
      "| date   | day   | temperature   | rainfall   | flyers   | price   | sales   | month   |\n",
      "|--------|-------|---------------|------------|----------|---------|---------|---------|\n",
      "Bounds: (0.5, 0.5)\n",
      "=====================\n",
      "Outliers for sales:\n",
      "| date                | day      |   temperature |   rainfall |   flyers |   price |   sales | month   |\n",
      "|:--------------------|:---------|--------------:|-----------:|---------:|--------:|--------:|:--------|\n",
      "| 2017-07-01 00:00:00 | Saturday |         102.9 |       0.47 |       59 |     0.5 |     143 | July    |\n",
      "| 2017-07-02 00:00:00 | Sunday   |          93.4 |       0.51 |       68 |     0.5 |     158 | July    |\n",
      "| 2017-07-03 00:00:00 | Monday   |          81.5 |       0.54 |       68 |     0.5 |     235 | July    |\n",
      "| 2017-07-04 00:00:00 | Tuesday  |          84.2 |       0.59 |       49 |     0.5 |     534 | July    |\n",
      "Bounds: (5.0, 45.0)\n",
      "=====================\n"
     ]
    }
   ],
   "source": [
    "for col in outliers_dict.keys():\n",
    "    print(f'Outliers for {col}:')\n",
    "    print(outliers_dict[col]['df'].to_markdown())\n",
    "    print(f\"Bounds: {outliers_dict[col]['bounds']}\")\n",
    "    print('=====================')\n",
    "          "
   ]
  },
  {
   "cell_type": "code",
   "execution_count": 20,
   "id": "a9e74626-f155-4789-a5aa-34c647fde022",
   "metadata": {
    "tags": []
   },
   "outputs": [
    {
     "data": {
      "image/png": "[encoded data removed]",
      "text/plain": [
       "<Figure size 640x480 with 1 Axes>"
      ]
     },
     "metadata": {},
     "output_type": "display_data"
    }
   ],
   "source": [
    "df['rainfall'].plot(title='Rainfall Over Time')\n",
    "plt.show()"
   ]
  },
  {
   "cell_type": "code",
   "execution_count": 21,
   "id": "664679e1-f7ac-41c2-b818-cb6170dd3990",
   "metadata": {
    "tags": []
   },
   "outputs": [
    {
     "data": {
      "image/png": "[encoded data removed]",
      "text/plain": [
       "<Figure size 640x480 with 1 Axes>"
      ]
     },
     "metadata": {},
     "output_type": "display_data"
    }
   ],
   "source": [
    "plt.bar(df.month, df.rainfall)\n",
    "plt.title('Rainfall by Month')\n",
    "plt.xticks(rotation=90)\n",
    "plt.show()\n"
   ]
  },
  {
   "cell_type": "code",
   "execution_count": 23,
   "id": "67b3114f-8c69-4730-8d3d-5360b4708c51",
   "metadata": {
    "tags": []
   },
   "outputs": [],
   "source": [
    "# for organizational purposes\n",
    "outliers_dict_3 = {}\n",
    "for col in df.drop(columns=['month','day']).columns:\n",
    "    outliers_dict_3[col] = {}\n",
    "    outliers_dict_3[col]['bounds'] = get_fences(df,col,k=3.0)\n",
    "    outliers_dict_3[col]['df'] = \\\n",
    "    df[(df[col] > outliers_dict_3[col]['bounds'][1])|\n",
    "      (df[col] < outliers_dict_3[col]['bounds'][0])]\n"
   ]
  },
  {
   "cell_type": "code",
   "execution_count": 24,
   "id": "0de8b407-9151-4ca7-bb83-8950f937d8a1",
   "metadata": {
    "tags": []
   },
   "outputs": [
    {
     "name": "stdout",
     "output_type": "stream",
     "text": [
      "Outliers for temperature:\n",
      "| date                | day      |   temperature |   rainfall |   flyers |   price |   sales | month    |\n",
      "|:--------------------|:---------|--------------:|-----------:|---------:|--------:|--------:|:---------|\n",
      "| 2017-02-11 00:00:00 | Saturday |           212 |       0.91 |       35 |     0.5 |      21 | February |\n",
      "Bounds: (-16.299999999999997, 137.7)\n",
      "=====================\n",
      "Outliers for rainfall:\n",
      "| date                | day     |   temperature |   rainfall |   flyers |   price |   sales | month    |\n",
      "|:--------------------|:--------|--------------:|-----------:|---------:|--------:|--------:|:---------|\n",
      "| 2017-01-01 00:00:00 | Sunday  |          27   |       2    |       15 |     0.5 |      10 | January  |\n",
      "| 2017-12-05 00:00:00 | Tuesday |          22   |       1.82 |       11 |     0.5 |      10 | December |\n",
      "| 2017-12-10 00:00:00 | Sunday  |          31.3 |       1.82 |       15 |     0.5 |      11 | December |\n",
      "| 2017-12-31 00:00:00 | Sunday  |          15.1 |       2.5  |        9 |     0.5 |       7 | December |\n",
      "Bounds: (-0.13, 1.69)\n",
      "=====================\n",
      "Outliers for flyers:\n",
      "| date                | day     |   temperature |   rainfall |   flyers |   price |   sales | month    |\n",
      "|:--------------------|:--------|--------------:|-----------:|---------:|--------:|--------:|:---------|\n",
      "| 2017-11-21 00:00:00 | Tuesday |            47 |       0.95 |      -38 |     0.5 |      20 | November |\n",
      "Bounds: (-23.0, 103.0)\n",
      "=====================\n",
      "Outliers for price:\n",
      "| date   | day   | temperature   | rainfall   | flyers   | price   | sales   | month   |\n",
      "|--------|-------|---------------|------------|----------|---------|---------|---------|\n",
      "Bounds: (0.5, 0.5)\n",
      "=====================\n",
      "Outliers for sales:\n",
      "| date                | day      |   temperature |   rainfall |   flyers |   price |   sales | month   |\n",
      "|:--------------------|:---------|--------------:|-----------:|---------:|--------:|--------:|:--------|\n",
      "| 2017-07-01 00:00:00 | Saturday |         102.9 |       0.47 |       59 |     0.5 |     143 | July    |\n",
      "| 2017-07-02 00:00:00 | Sunday   |          93.4 |       0.51 |       68 |     0.5 |     158 | July    |\n",
      "| 2017-07-03 00:00:00 | Monday   |          81.5 |       0.54 |       68 |     0.5 |     235 | July    |\n",
      "| 2017-07-04 00:00:00 | Tuesday  |          84.2 |       0.59 |       49 |     0.5 |     534 | July    |\n",
      "Bounds: (-10.0, 60.0)\n",
      "=====================\n"
     ]
    }
   ],
   "source": [
    "for col in outliers_dict_3.keys():\n",
    "    print(f'Outliers for {col}:')\n",
    "    print(outliers_dict_3[col]['df'].to_markdown())\n",
    "    print(f\"Bounds: {outliers_dict_3[col]['bounds']}\")\n",
    "    print('=====================')"
   ]
  },
  {
   "cell_type": "code",
   "execution_count": 25,
   "id": "b799e773-e41a-40f4-b3f9-13a4768c68aa",
   "metadata": {
    "tags": []
   },
   "outputs": [
    {
     "data": {
      "text/plain": [
       "dict_keys(['bounds', 'df'])"
      ]
     },
     "execution_count": 25,
     "metadata": {},
     "output_type": "execute_result"
    }
   ],
   "source": [
    "#  z scores:\n",
    "\n",
    "outliers_dict['rainfall'].keys()\n"
   ]
  },
  {
   "cell_type": "code",
   "execution_count": 26,
   "id": "fa05d669-5f87-40c5-971f-8aa1275413c6",
   "metadata": {
    "tags": []
   },
   "outputs": [],
   "source": [
    "col = 'rainfall'\n",
    "for col in outliers_dict.keys():\n",
    "    outliers_dict[col]['zdf'] = \\\n",
    "    df[((df[col] - (df[col].mean())) / df[col].std()).abs() > 3] "
   ]
  },
  {
   "cell_type": "code",
   "execution_count": 28,
   "id": "0c624a40-c66f-43c2-af7f-d66ab63994de",
   "metadata": {
    "tags": []
   },
   "outputs": [
    {
     "data": {
      "text/plain": [
       "dict_keys(['bounds', 'df', 'zdf'])"
      ]
     },
     "execution_count": 28,
     "metadata": {},
     "output_type": "execute_result"
    }
   ],
   "source": [
    "outliers_dict['rainfall'].keys()\n"
   ]
  },
  {
   "cell_type": "code",
   "execution_count": 29,
   "id": "3e1fa537-8b5a-4c63-9102-a515b885464c",
   "metadata": {
    "tags": []
   },
   "outputs": [
    {
     "name": "stdout",
     "output_type": "stream",
     "text": [
      "For temperature:\n",
      "| date                | day      |   temperature |   rainfall |   flyers |   price |   sales | month    |\n",
      "|:--------------------|:---------|--------------:|-----------:|---------:|--------:|--------:|:---------|\n",
      "| 2017-02-11 00:00:00 | Saturday |           212 |       0.91 |       35 |     0.5 |      21 | February |\n",
      "===========\n",
      "For rainfall:\n",
      "| date                | day     |   temperature |   rainfall |   flyers |   price |   sales | month    |\n",
      "|:--------------------|:--------|--------------:|-----------:|---------:|--------:|--------:|:---------|\n",
      "| 2017-01-01 00:00:00 | Sunday  |          27   |       2    |       15 |     0.5 |      10 | January  |\n",
      "| 2017-01-16 00:00:00 | Monday  |          30.6 |       1.67 |       24 |     0.5 |      12 | January  |\n",
      "| 2017-12-05 00:00:00 | Tuesday |          22   |       1.82 |       11 |     0.5 |      10 | December |\n",
      "| 2017-12-10 00:00:00 | Sunday  |          31.3 |       1.82 |       15 |     0.5 |      11 | December |\n",
      "| 2017-12-31 00:00:00 | Sunday  |          15.1 |       2.5  |        9 |     0.5 |       7 | December |\n",
      "===========\n",
      "For flyers:\n",
      "| date                | day     |   temperature |   rainfall |   flyers |   price |   sales | month    |\n",
      "|:--------------------|:--------|--------------:|-----------:|---------:|--------:|--------:|:---------|\n",
      "| 2017-11-21 00:00:00 | Tuesday |            47 |       0.95 |      -38 |     0.5 |      20 | November |\n",
      "===========\n",
      "For price:\n",
      "| date   | day   | temperature   | rainfall   | flyers   | price   | sales   | month   |\n",
      "|--------|-------|---------------|------------|----------|---------|---------|---------|\n",
      "===========\n",
      "For sales:\n",
      "| date                | day      |   temperature |   rainfall |   flyers |   price |   sales | month   |\n",
      "|:--------------------|:---------|--------------:|-----------:|---------:|--------:|--------:|:--------|\n",
      "| 2017-07-01 00:00:00 | Saturday |         102.9 |       0.47 |       59 |     0.5 |     143 | July    |\n",
      "| 2017-07-02 00:00:00 | Sunday   |          93.4 |       0.51 |       68 |     0.5 |     158 | July    |\n",
      "| 2017-07-03 00:00:00 | Monday   |          81.5 |       0.54 |       68 |     0.5 |     235 | July    |\n",
      "| 2017-07-04 00:00:00 | Tuesday  |          84.2 |       0.59 |       49 |     0.5 |     534 | July    |\n",
      "===========\n"
     ]
    }
   ],
   "source": [
    "for col in outliers_dict.keys():\n",
    "    print(f'For {col}:')\n",
    "    print(outliers_dict[col]['zdf'].to_markdown())\n",
    "    print('===========')"
   ]
  },
  {
   "cell_type": "code",
   "execution_count": 30,
   "id": "1757e5a7-07ca-4286-bb81-72b28bced717",
   "metadata": {
    "tags": []
   },
   "outputs": [],
   "source": [
    "col = 'rainfall'\n",
    "for col in outliers_dict.keys():\n",
    "    outliers_dict[col]['zdf'] = \\\n",
    "    df[((df[col] - (df[col].mean())) / df[col].std()).abs() > 2] \n"
   ]
  },
  {
   "cell_type": "code",
   "execution_count": 31,
   "id": "1b721ede-dd4c-4c67-900e-2f285a1ca4b3",
   "metadata": {
    "tags": []
   },
   "outputs": [
    {
     "name": "stdout",
     "output_type": "stream",
     "text": [
      "For temperature:\n",
      "| date                | day      |   temperature |   rainfall |   flyers |   price |   sales | month    |\n",
      "|:--------------------|:---------|--------------:|-----------:|---------:|--------:|--------:|:---------|\n",
      "| 2017-02-11 00:00:00 | Saturday |         212   |       0.91 |       35 |     0.5 |      21 | February |\n",
      "| 2017-06-16 00:00:00 | Friday   |          99.3 |       0.47 |       77 |     0.5 |      41 | June     |\n",
      "| 2017-06-26 00:00:00 | Monday   |         102.6 |       0.47 |       60 |     0.5 |      42 | June     |\n",
      "| 2017-07-01 00:00:00 | Saturday |         102.9 |       0.47 |       59 |     0.5 |     143 | July     |\n",
      "| 2017-07-10 00:00:00 | Monday   |          98   |       0.49 |       66 |     0.5 |      40 | July     |\n",
      "| 2017-07-18 00:00:00 | Tuesday  |          99.3 |       0.47 |       76 |     0.5 |      41 | July     |\n",
      "| 2017-07-22 00:00:00 | Saturday |          99.6 |       0.47 |       49 |     0.5 |      42 | July     |\n",
      "| 2017-07-27 00:00:00 | Thursday |          97.9 |       0.47 |       74 |     0.5 |      43 | July     |\n",
      "| 2017-12-05 00:00:00 | Tuesday  |          22   |       1.82 |       11 |     0.5 |      10 | December |\n",
      "| 2017-12-31 00:00:00 | Sunday   |          15.1 |       2.5  |        9 |     0.5 |       7 | December |\n",
      "===========\n",
      "For rainfall:\n",
      "| date                | day       |   temperature |   rainfall |   flyers |   price |   sales | month    |\n",
      "|:--------------------|:----------|--------------:|-----------:|---------:|--------:|--------:|:---------|\n",
      "| 2017-01-01 00:00:00 | Sunday    |          27   |       2    |       15 |     0.5 |      10 | January  |\n",
      "| 2017-01-06 00:00:00 | Friday    |          25.3 |       1.54 |       23 |     0.5 |      11 | January  |\n",
      "| 2017-01-07 00:00:00 | Saturday  |          32.9 |       1.54 |       19 |     0.5 |      13 | January  |\n",
      "| 2017-01-11 00:00:00 | Wednesday |          32.6 |       1.54 |       23 |     0.5 |      12 | January  |\n",
      "| 2017-01-16 00:00:00 | Monday    |          30.6 |       1.67 |       24 |     0.5 |      12 | January  |\n",
      "| 2017-01-17 00:00:00 | Tuesday   |          32.2 |       1.43 |       26 |     0.5 |      14 | January  |\n",
      "| 2017-01-20 00:00:00 | Friday    |          31.6 |       1.43 |       20 |     0.5 |      12 | January  |\n",
      "| 2017-01-24 00:00:00 | Tuesday   |          28.6 |       1.54 |       20 |     0.5 |      12 | January  |\n",
      "| 2017-12-04 00:00:00 | Monday    |          34.9 |       1.54 |       16 |     0.5 |      13 | December |\n",
      "| 2017-12-05 00:00:00 | Tuesday   |          22   |       1.82 |       11 |     0.5 |      10 | December |\n",
      "| 2017-12-09 00:00:00 | Saturday  |          31.2 |       1.43 |       19 |     0.5 |      14 | December |\n",
      "| 2017-12-10 00:00:00 | Sunday    |          31.3 |       1.82 |       15 |     0.5 |      11 | December |\n",
      "| 2017-12-13 00:00:00 | Wednesday |          32.2 |       1.43 |       26 |     0.5 |      14 | December |\n",
      "| 2017-12-14 00:00:00 | Thursday  |          31.9 |       1.54 |       24 |     0.5 |      13 | December |\n",
      "| 2017-12-18 00:00:00 | Monday    |          30.9 |       1.43 |       27 |     0.5 |      13 | December |\n",
      "| 2017-12-22 00:00:00 | Friday    |          30.9 |       1.54 |       17 |     0.5 |      13 | December |\n",
      "| 2017-12-26 00:00:00 | Tuesday   |          28.9 |       1.43 |       23 |     0.5 |      13 | December |\n",
      "| 2017-12-30 00:00:00 | Saturday  |          30.9 |       1.43 |       22 |     0.5 |      13 | December |\n",
      "| 2017-12-31 00:00:00 | Sunday    |          15.1 |       2.5  |        9 |     0.5 |       7 | December |\n",
      "===========\n",
      "For flyers:\n",
      "| date                | day       |   temperature |   rainfall |   flyers |   price |   sales | month    |\n",
      "|:--------------------|:----------|--------------:|-----------:|---------:|--------:|--------:|:---------|\n",
      "| 2017-06-16 00:00:00 | Friday    |          99.3 |       0.47 |       77 |     0.5 |      41 | June     |\n",
      "| 2017-06-20 00:00:00 | Tuesday   |          85.1 |       0.54 |       70 |     0.5 |      37 | June     |\n",
      "| 2017-06-21 00:00:00 | Wednesday |          94.3 |       0.47 |       76 |     0.5 |      41 | June     |\n",
      "| 2017-07-02 00:00:00 | Sunday    |          93.4 |       0.51 |       68 |     0.5 |     158 | July     |\n",
      "| 2017-07-03 00:00:00 | Monday    |          81.5 |       0.54 |       68 |     0.5 |     235 | July     |\n",
      "| 2017-07-14 00:00:00 | Friday    |          92   |       0.5  |       80 |     0.5 |      40 | July     |\n",
      "| 2017-07-18 00:00:00 | Tuesday   |          99.3 |       0.47 |       76 |     0.5 |      41 | July     |\n",
      "| 2017-07-23 00:00:00 | Sunday    |          89.1 |       0.51 |       72 |     0.5 |      37 | July     |\n",
      "| 2017-07-24 00:00:00 | Monday    |          83.5 |       0.57 |       69 |     0.5 |      35 | July     |\n",
      "| 2017-07-27 00:00:00 | Thursday  |          97.9 |       0.47 |       74 |     0.5 |      43 | July     |\n",
      "| 2017-11-21 00:00:00 | Tuesday   |          47   |       0.95 |      -38 |     0.5 |      20 | November |\n",
      "| 2017-12-05 00:00:00 | Tuesday   |          22   |       1.82 |       11 |     0.5 |      10 | December |\n",
      "| 2017-12-31 00:00:00 | Sunday    |          15.1 |       2.5  |        9 |     0.5 |       7 | December |\n",
      "===========\n",
      "For price:\n",
      "| date   | day   | temperature   | rainfall   | flyers   | price   | sales   | month   |\n",
      "|--------|-------|---------------|------------|----------|---------|---------|---------|\n",
      "===========\n",
      "For sales:\n",
      "| date                | day      |   temperature |   rainfall |   flyers |   price |   sales | month   |\n",
      "|:--------------------|:---------|--------------:|-----------:|---------:|--------:|--------:|:--------|\n",
      "| 2017-07-01 00:00:00 | Saturday |         102.9 |       0.47 |       59 |     0.5 |     143 | July    |\n",
      "| 2017-07-02 00:00:00 | Sunday   |          93.4 |       0.51 |       68 |     0.5 |     158 | July    |\n",
      "| 2017-07-03 00:00:00 | Monday   |          81.5 |       0.54 |       68 |     0.5 |     235 | July    |\n",
      "| 2017-07-04 00:00:00 | Tuesday  |          84.2 |       0.59 |       49 |     0.5 |     534 | July    |\n",
      "===========\n"
     ]
    }
   ],
   "source": [
    "for col in outliers_dict.keys():\n",
    "    print(f'For {col}:')\n",
    "    print(outliers_dict[col]['zdf'].to_markdown())\n",
    "    print('===========')"
   ]
  },
  {
   "cell_type": "markdown",
   "id": "a87e4fab-1a94-438b-923a-4aa1eb173613",
   "metadata": {},
   "source": [
    "### everything appears to be consistent "
   ]
  },
  {
   "cell_type": "code",
   "execution_count": 33,
   "id": "783702a0-60d9-4d0e-96fd-f5d5139b202e",
   "metadata": {
    "tags": []
   },
   "outputs": [
    {
     "data": {
      "text/plain": [
       "date\n",
       "2017-12-24    35.8\n",
       "2017-12-25    35.5\n",
       "2017-12-26    28.9\n",
       "2017-12-27    42.7\n",
       "2017-12-28    37.8\n",
       "2017-12-29    39.5\n",
       "2017-12-30    30.9\n",
       "2017-12-31    15.1\n",
       "Name: temperature, dtype: float64"
      ]
     },
     "execution_count": 33,
     "metadata": {},
     "output_type": "execute_result"
    }
   ],
   "source": [
    "# temp around 12-31:\n",
    "df.loc['2017-12-24':'2017-12-31']['temperature']\n"
   ]
  },
  {
   "cell_type": "code",
   "execution_count": 34,
   "id": "456a1cb0-83ab-49a8-bd22-00ed0524bb8b",
   "metadata": {
    "tags": []
   },
   "outputs": [
    {
     "data": {
      "text/html": [
       "<div>\n",
       "<style scoped>\n",
       "    .dataframe tbody tr th:only-of-type {\n",
       "        vertical-align: middle;\n",
       "    }\n",
       "\n",
       "    .dataframe tbody tr th {\n",
       "        vertical-align: top;\n",
       "    }\n",
       "\n",
       "    .dataframe thead th {\n",
       "        text-align: right;\n",
       "    }\n",
       "</style>\n",
       "<table border=\"1\" class=\"dataframe\">\n",
       "  <thead>\n",
       "    <tr style=\"text-align: right;\">\n",
       "      <th></th>\n",
       "      <th>day</th>\n",
       "      <th>temperature</th>\n",
       "      <th>rainfall</th>\n",
       "      <th>flyers</th>\n",
       "      <th>price</th>\n",
       "      <th>sales</th>\n",
       "      <th>month</th>\n",
       "    </tr>\n",
       "    <tr>\n",
       "      <th>date</th>\n",
       "      <th></th>\n",
       "      <th></th>\n",
       "      <th></th>\n",
       "      <th></th>\n",
       "      <th></th>\n",
       "      <th></th>\n",
       "      <th></th>\n",
       "    </tr>\n",
       "  </thead>\n",
       "  <tbody>\n",
       "    <tr>\n",
       "      <th>2017-11-20</th>\n",
       "      <td>Monday</td>\n",
       "      <td>55.6</td>\n",
       "      <td>0.87</td>\n",
       "      <td>41</td>\n",
       "      <td>0.5</td>\n",
       "      <td>22</td>\n",
       "      <td>November</td>\n",
       "    </tr>\n",
       "    <tr>\n",
       "      <th>2017-11-21</th>\n",
       "      <td>Tuesday</td>\n",
       "      <td>47.0</td>\n",
       "      <td>0.95</td>\n",
       "      <td>-38</td>\n",
       "      <td>0.5</td>\n",
       "      <td>20</td>\n",
       "      <td>November</td>\n",
       "    </tr>\n",
       "    <tr>\n",
       "      <th>2017-11-22</th>\n",
       "      <td>Wednesday</td>\n",
       "      <td>48.7</td>\n",
       "      <td>1.00</td>\n",
       "      <td>40</td>\n",
       "      <td>0.5</td>\n",
       "      <td>19</td>\n",
       "      <td>November</td>\n",
       "    </tr>\n",
       "    <tr>\n",
       "      <th>2017-11-23</th>\n",
       "      <td>Thursday</td>\n",
       "      <td>51.9</td>\n",
       "      <td>0.87</td>\n",
       "      <td>47</td>\n",
       "      <td>0.5</td>\n",
       "      <td>23</td>\n",
       "      <td>November</td>\n",
       "    </tr>\n",
       "  </tbody>\n",
       "</table>\n",
       "</div>"
      ],
      "text/plain": [
       "                  day  temperature  rainfall  flyers  price  sales     month\n",
       "date                                                                        \n",
       "2017-11-20     Monday         55.6      0.87      41    0.5     22  November\n",
       "2017-11-21    Tuesday         47.0      0.95     -38    0.5     20  November\n",
       "2017-11-22  Wednesday         48.7      1.00      40    0.5     19  November\n",
       "2017-11-23   Thursday         51.9      0.87      47    0.5     23  November"
      ]
     },
     "execution_count": 34,
     "metadata": {},
     "output_type": "execute_result"
    }
   ],
   "source": [
    "# lets look at the few days around there:\n",
    "df.loc['2017-11-20':'2017-11-23']"
   ]
  },
  {
   "cell_type": "code",
   "execution_count": 36,
   "id": "ad57a99f-59dd-4500-8d76-49dee1b495c5",
   "metadata": {
    "tags": []
   },
   "outputs": [],
   "source": [
    "# lets just make that value positive.\n",
    "df.loc[:,'flyers'] = df.flyers.abs()"
   ]
  },
  {
   "cell_type": "code",
   "execution_count": 37,
   "id": "1d555696-498d-4476-8fc7-aaff3739c369",
   "metadata": {
    "tags": []
   },
   "outputs": [
    {
     "data": {
      "text/plain": [
       "count    365.000000\n",
       "mean      40.312329\n",
       "std       13.163427\n",
       "min        9.000000\n",
       "25%       31.000000\n",
       "50%       39.000000\n",
       "75%       49.000000\n",
       "max       80.000000\n",
       "Name: flyers, dtype: float64"
      ]
     },
     "execution_count": 37,
     "metadata": {},
     "output_type": "execute_result"
    }
   ],
   "source": [
    "df.flyers.describe()\n"
   ]
  },
  {
   "cell_type": "code",
   "execution_count": 38,
   "id": "67d802bf-4ffd-46b4-9b50-841ce1427137",
   "metadata": {
    "tags": []
   },
   "outputs": [
    {
     "data": {
      "text/html": [
       "<div>\n",
       "<style scoped>\n",
       "    .dataframe tbody tr th:only-of-type {\n",
       "        vertical-align: middle;\n",
       "    }\n",
       "\n",
       "    .dataframe tbody tr th {\n",
       "        vertical-align: top;\n",
       "    }\n",
       "\n",
       "    .dataframe thead th {\n",
       "        text-align: right;\n",
       "    }\n",
       "</style>\n",
       "<table border=\"1\" class=\"dataframe\">\n",
       "  <thead>\n",
       "    <tr style=\"text-align: right;\">\n",
       "      <th></th>\n",
       "      <th>day</th>\n",
       "      <th>temperature</th>\n",
       "      <th>rainfall</th>\n",
       "      <th>flyers</th>\n",
       "      <th>price</th>\n",
       "      <th>sales</th>\n",
       "      <th>month</th>\n",
       "    </tr>\n",
       "    <tr>\n",
       "      <th>date</th>\n",
       "      <th></th>\n",
       "      <th></th>\n",
       "      <th></th>\n",
       "      <th></th>\n",
       "      <th></th>\n",
       "      <th></th>\n",
       "      <th></th>\n",
       "    </tr>\n",
       "  </thead>\n",
       "  <tbody>\n",
       "    <tr>\n",
       "      <th>2017-02-08</th>\n",
       "      <td>Wednesday</td>\n",
       "      <td>52.6</td>\n",
       "      <td>0.87</td>\n",
       "      <td>31</td>\n",
       "      <td>0.5</td>\n",
       "      <td>22</td>\n",
       "      <td>February</td>\n",
       "    </tr>\n",
       "    <tr>\n",
       "      <th>2017-02-09</th>\n",
       "      <td>Thursday</td>\n",
       "      <td>42.7</td>\n",
       "      <td>1.00</td>\n",
       "      <td>39</td>\n",
       "      <td>0.5</td>\n",
       "      <td>19</td>\n",
       "      <td>February</td>\n",
       "    </tr>\n",
       "    <tr>\n",
       "      <th>2017-02-10</th>\n",
       "      <td>Friday</td>\n",
       "      <td>50.0</td>\n",
       "      <td>0.91</td>\n",
       "      <td>40</td>\n",
       "      <td>0.5</td>\n",
       "      <td>20</td>\n",
       "      <td>February</td>\n",
       "    </tr>\n",
       "    <tr>\n",
       "      <th>2017-02-11</th>\n",
       "      <td>Saturday</td>\n",
       "      <td>212.0</td>\n",
       "      <td>0.91</td>\n",
       "      <td>35</td>\n",
       "      <td>0.5</td>\n",
       "      <td>21</td>\n",
       "      <td>February</td>\n",
       "    </tr>\n",
       "    <tr>\n",
       "      <th>2017-02-12</th>\n",
       "      <td>Sunday</td>\n",
       "      <td>55.6</td>\n",
       "      <td>0.83</td>\n",
       "      <td>41</td>\n",
       "      <td>0.5</td>\n",
       "      <td>22</td>\n",
       "      <td>February</td>\n",
       "    </tr>\n",
       "    <tr>\n",
       "      <th>2017-02-13</th>\n",
       "      <td>Monday</td>\n",
       "      <td>46.4</td>\n",
       "      <td>1.11</td>\n",
       "      <td>34</td>\n",
       "      <td>0.5</td>\n",
       "      <td>18</td>\n",
       "      <td>February</td>\n",
       "    </tr>\n",
       "  </tbody>\n",
       "</table>\n",
       "</div>"
      ],
      "text/plain": [
       "                  day  temperature  rainfall  flyers  price  sales     month\n",
       "date                                                                        \n",
       "2017-02-08  Wednesday         52.6      0.87      31    0.5     22  February\n",
       "2017-02-09   Thursday         42.7      1.00      39    0.5     19  February\n",
       "2017-02-10     Friday         50.0      0.91      40    0.5     20  February\n",
       "2017-02-11   Saturday        212.0      0.91      35    0.5     21  February\n",
       "2017-02-12     Sunday         55.6      0.83      41    0.5     22  February\n",
       "2017-02-13     Monday         46.4      1.11      34    0.5     18  February"
      ]
     },
     "execution_count": 38,
     "metadata": {},
     "output_type": "execute_result"
    }
   ],
   "source": [
    "# check out temperatures aroune feb 11th for that weird one:\n",
    "df.loc['2017-02-08':'2017-02-13']"
   ]
  },
  {
   "cell_type": "code",
   "execution_count": 40,
   "id": "ea81e9a8-e9b9-42f7-b9ff-fe6eef632eda",
   "metadata": {
    "tags": []
   },
   "outputs": [],
   "source": [
    "# reassign the temp value for 02/11 for temperature\n",
    "# to the mean of the day before and the day after\n",
    "df.loc['2017-02-11','temperature'] = (df.loc['2017-02-10']['temperature'] + df.loc['2017-02-12']['temperature']) / 2"
   ]
  },
  {
   "cell_type": "code",
   "execution_count": 42,
   "id": "2e394683-9c4e-4180-95e2-0edb0aeecc53",
   "metadata": {
    "tags": []
   },
   "outputs": [
    {
     "name": "stdout",
     "output_type": "stream",
     "text": [
      "Spread of data for temperature\n"
     ]
    },
    {
     "data": {
      "image/png": "[encoded data removed]",
      "text/plain": [
       "<Figure size 640x480 with 1 Axes>"
      ]
     },
     "metadata": {},
     "output_type": "display_data"
    },
    {
     "data": {
      "image/png": "[encoded data removed]",
      "text/plain": [
       "<Figure size 640x480 with 1 Axes>"
      ]
     },
     "metadata": {},
     "output_type": "display_data"
    },
    {
     "name": "stdout",
     "output_type": "stream",
     "text": [
      "===========\n",
      "Spread of data for rainfall\n"
     ]
    },
    {
     "data": {
      "image/png": "[encoded data removed]",
      "text/plain": [
       "<Figure size 640x480 with 1 Axes>"
      ]
     },
     "metadata": {},
     "output_type": "display_data"
    },
    {
     "data": {
      "image/png": "[encoded data removed]",
      "text/plain": [
       "<Figure size 640x480 with 1 Axes>"
      ]
     },
     "metadata": {},
     "output_type": "display_data"
    },
    {
     "name": "stdout",
     "output_type": "stream",
     "text": [
      "===========\n",
      "Spread of data for flyers\n"
     ]
    },
    {
     "data": {
      "image/png": "[encoded data removed]",
      "text/plain": [
       "<Figure size 640x480 with 1 Axes>"
      ]
     },
     "metadata": {},
     "output_type": "display_data"
    },
    {
     "data": {
      "image/png": "[encoded data removed]",
      "text/plain": [
       "<Figure size 640x480 with 1 Axes>"
      ]
     },
     "metadata": {},
     "output_type": "display_data"
    },
    {
     "name": "stdout",
     "output_type": "stream",
     "text": [
      "===========\n",
      "Spread of data for price\n"
     ]
    },
    {
     "data": {
      "image/png": "[encoded data removed]",
      "text/plain": [
       "<Figure size 640x480 with 1 Axes>"
      ]
     },
     "metadata": {},
     "output_type": "display_data"
    },
    {
     "data": {
      "image/png": "[encoded data removed]",
      "text/plain": [
       "<Figure size 640x480 with 1 Axes>"
      ]
     },
     "metadata": {},
     "output_type": "display_data"
    },
    {
     "name": "stdout",
     "output_type": "stream",
     "text": [
      "===========\n",
      "Spread of data for sales\n"
     ]
    },
    {
     "data": {
      "image/png": "[encoded data removed]",
      "text/plain": [
       "<Figure size 640x480 with 1 Axes>"
      ]
     },
     "metadata": {},
     "output_type": "display_data"
    },
    {
     "data": {
      "image/png": "[encoded data removed]",
      "text/plain": [
       "<Figure size 640x480 with 1 Axes>"
      ]
     },
     "metadata": {},
     "output_type": "display_data"
    },
    {
     "name": "stdout",
     "output_type": "stream",
     "text": [
      "===========\n"
     ]
    }
   ],
   "source": [
    "for col in df.drop(columns=['month','day']).columns:\n",
    "    print(f'Spread of data for {col}')\n",
    "    # make a histogram for each col\n",
    "    plt.hist(df[col])\n",
    "    plt.show()\n",
    "    # make a box plot of each col\n",
    "    sns.boxplot(data=df, x=col)\n",
    "    plt.show()\n",
    "    print('===========')\n"
   ]
  },
  {
   "cell_type": "code",
   "execution_count": null,
   "id": "b9e58218-0450-4b10-a73d-60ef4c32a8d7",
   "metadata": {},
   "outputs": [],
   "source": []
  }
 ],
 "metadata": {
  "kernelspec": {
   "display_name": "Python 3 (ipykernel)",
   "language": "python",
   "name": "python3"
  },
  "language_info": {
   "codemirror_mode": {
    "name": "ipython",
    "version": 3
   },
   "file_extension": ".py",
   "mimetype": "text/x-python",
   "name": "python",
   "nbconvert_exporter": "python",
   "pygments_lexer": "ipython3",
   "version": "3.11.4"
  }
 },
 "nbformat": 4,
 "nbformat_minor": 5
}
